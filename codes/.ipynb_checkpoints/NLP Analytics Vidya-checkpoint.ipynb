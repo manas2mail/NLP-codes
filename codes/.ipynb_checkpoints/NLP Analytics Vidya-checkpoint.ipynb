{
 "cells": [
  {
   "cell_type": "code",
   "execution_count": 3,
   "metadata": {
    "collapsed": false
   },
   "outputs": [
    {
     "name": "stdout",
     "output_type": "stream",
     "text": [
      "tfidf =>\n",
      "   (0, 3)\t0.326309521953\n",
      "  (0, 4)\t0.552490047084\n",
      "  (0, 11)\t0.326309521953\n",
      "  (0, 6)\t0.420182921489\n",
      "  (0, 12)\t0.552490047084\n",
      "  (1, 5)\t0.48359120933\n",
      "  (1, 13)\t0.48359120933\n",
      "  (1, 9)\t0.48359120933\n",
      "  (1, 3)\t0.285616758474\n",
      "  (1, 11)\t0.285616758474\n",
      "  (1, 6)\t0.367783579478\n",
      "  (2, 8)\t0.360429878123\n",
      "  (2, 14)\t0.360429878123\n",
      "  (2, 1)\t0.360429878123\n",
      "  (2, 0)\t0.360429878123\n",
      "  (2, 2)\t0.360429878123\n",
      "  (2, 7)\t0.360429878123\n",
      "  (2, 10)\t0.360429878123\n",
      "  (2, 3)\t0.212875692238\n",
      "  (2, 11)\t0.212875692238\n"
     ]
    }
   ],
   "source": [
    "#### Tfidf vectorizer using sklearn\n",
    "from sklearn.feature_extraction.text import TfidfVectorizer\n",
    "vectorizer = TfidfVectorizer()\n",
    "corpus = [\"this is the first document\",\"The second document is too good\",\"The document term matrix can be calculated using python\"]\n",
    "tfidf = vectorizer.fit_transform(corpus)\n",
    "print(\"tfidf =>\\n\",tfidf)"
   ]
  },
  {
   "cell_type": "code",
   "execution_count": 21,
   "metadata": {
    "collapsed": false
   },
   "outputs": [
    {
     "name": "stdout",
     "output_type": "stream",
     "text": [
      "0.151321385621\n"
     ]
    }
   ],
   "source": [
    "#### Word Embedding (text vectors)\n",
    "#### used to measure text similarity using cosine similarity techniques, words clustering and text classification techniques.\n",
    "from gensim.models import Word2Vec\n",
    "sen = [['data','science'],['science','vidya','data','analytics'],['machine','learning'],['deep','learning']]\n",
    "model = Word2Vec(sen, min_count = 1)\n",
    "print(model.similarity('deep','learning'))\n"
   ]
  },
  {
   "cell_type": "code",
   "execution_count": 22,
   "metadata": {
    "collapsed": false
   },
   "outputs": [
    {
     "ename": "ImportError",
     "evalue": "No module named 'textblob'",
     "output_type": "error",
     "traceback": [
      "\u001b[1;31m---------------------------------------------------------------------------\u001b[0m",
      "\u001b[1;31mImportError\u001b[0m                               Traceback (most recent call last)",
      "\u001b[1;32m<ipython-input-22-62f86af7085b>\u001b[0m in \u001b[0;36m<module>\u001b[1;34m()\u001b[0m\n\u001b[0;32m      1\u001b[0m \u001b[1;31m#### 4.1 Text Classification\u001b[0m\u001b[1;33m\u001b[0m\u001b[1;33m\u001b[0m\u001b[0m\n\u001b[1;32m----> 2\u001b[1;33m \u001b[1;32mfrom\u001b[0m \u001b[0mtextblob\u001b[0m\u001b[1;33m.\u001b[0m\u001b[0mclassifiers\u001b[0m \u001b[1;32mimport\u001b[0m \u001b[0mNaiveBayesClassifier\u001b[0m \u001b[1;32mas\u001b[0m \u001b[0mNBC\u001b[0m\u001b[1;33m\u001b[0m\u001b[0m\n\u001b[0m\u001b[0;32m      3\u001b[0m \u001b[1;32mfrom\u001b[0m \u001b[0mtextblob\u001b[0m \u001b[1;32mimport\u001b[0m \u001b[0mTextBlob\u001b[0m\u001b[1;33m\u001b[0m\u001b[0m\n\u001b[0;32m      4\u001b[0m \u001b[1;33m\u001b[0m\u001b[0m\n\u001b[0;32m      5\u001b[0m training_corpus = [('I am exhausted of this work','class_B'),\n",
      "\u001b[1;31mImportError\u001b[0m: No module named 'textblob'"
     ]
    }
   ],
   "source": [
    "#### 4.1 Text Classification\n",
    "from textblob.classifiers import NaiveBayesClassifier as NBC\n",
    "from textblob import TextBlob\n",
    "\n",
    "training_corpus = [('I am exhausted of this work','class_B'),\n",
    "                  ('I cant cooperate with this','class_B'),\n",
    "                  ('He is my badest enemy','class_B'),\n",
    "                  ('my manager is very poor','class_B'),\n",
    "                  ('I love this burger','class_A'),\n",
    "                  ('This is an amazing place','class_A'),\n",
    "                  ('I feel very good about these dates','class_A'),\n",
    "                  ('This is my best work','class_A'),\n",
    "                  ('what an awesome view','class_A'),\n",
    "                  ('I dont like this dish','class_B')]\n",
    "\n",
    "test_corpus = [('I am not feeling well today','class_B'),\n",
    "              ('I feel brilliant','class_A'),\n",
    "              ('Gary is a friend of mine','class_A'),\n",
    "              ('I cant beleive I am doing this','class_B'),\n",
    "              ('The date was good','class_A'),\n",
    "              ('I do not enjoy my job','class_B')]\n",
    "\n",
    "model = NBC(training_corpus)\n",
    "\n",
    "print(model.classify(\"their code is good\"))\n",
    "print(model.classify(\"I dont like their computer\"))\n",
    "print(model.accuracy(test_corpus))"
   ]
  }
 ],
 "metadata": {
  "kernelspec": {
   "display_name": "Python 3",
   "language": "python",
   "name": "python3"
  },
  "language_info": {
   "codemirror_mode": {
    "name": "ipython",
    "version": 3
   },
   "file_extension": ".py",
   "mimetype": "text/x-python",
   "name": "python",
   "nbconvert_exporter": "python",
   "pygments_lexer": "ipython3",
   "version": "3.5.1"
  }
 },
 "nbformat": 4,
 "nbformat_minor": 0
}
